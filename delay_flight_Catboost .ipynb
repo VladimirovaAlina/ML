{
 "cells": [
  {
   "cell_type": "markdown",
   "metadata": {},
   "source": [
    "<center>\n",
    "<img src=\"https://habrastorage.org/files/fd4/502/43d/fd450243dd604b81b9713213a247aa20.jpg\" />\n",
    "</center> \n",
    "     \n",
    "## <center>  [mlcourse.ai](https://mlcourse.ai) – Open Machine Learning Course \n",
    "\n",
    "#### <center> Author: [Yury Kashnitsky](https://yorko.github.io) (@yorko) \n",
    "\n",
    "# <center>Assignment #2. Fall 2019\n",
    "## <center> Part 2. Gradient boosting"
   ]
  },
  {
   "cell_type": "markdown",
   "metadata": {},
   "source": [
    "**In this assignment, you're asked to beat a baseline in the [\"Flight delays\" competition](https://www.kaggle.com/c/flight-delays-fall-2018).**\n",
    "\n",
    "This time we decided to share a pretty decent CatBoost baseline, you'll have to improve the provided solution.\n",
    "\n",
    "Prior to working on the assignment, you'd better check out the corresponding course material:\n",
    " 1. [Classification, Decision Trees and k Nearest Neighbors](https://nbviewer.jupyter.org/github/Yorko/mlcourse_open/blob/master/jupyter_english/topic03_decision_trees_kNN/topic3_decision_trees_kNN.ipynb?flush_cache=true), the same as an interactive web-based [Kaggle Kernel](https://www.kaggle.com/kashnitsky/topic-3-decision-trees-and-knn) \n",
    " 2. Ensembles:\n",
    "  - [Bagging](https://nbviewer.jupyter.org/github/Yorko/mlcourse_open/blob/master/jupyter_english/topic05_ensembles_random_forests/topic5_part1_bagging.ipynb?flush_cache=true), the same as a [Kaggle Kernel](https://www.kaggle.com/kashnitsky/topic-5-ensembles-part-1-bagging)\n",
    "  - [Random Forest](https://nbviewer.jupyter.org/github/Yorko/mlcourse_open/blob/master/jupyter_english/topic05_ensembles_random_forests/topic5_part2_random_forest.ipynb?flush_cache=true), the same as a [Kaggle Kernel](https://www.kaggle.com/kashnitsky/topic-5-ensembles-part-2-random-forest)\n",
    "  - [Feature Importance](https://nbviewer.jupyter.org/github/Yorko/mlcourse_open/blob/master/jupyter_english/topic05_ensembles_random_forests/topic5_part3_feature_importance.ipynb?flush_cache=true), the same as a [Kaggle Kernel](https://www.kaggle.com/kashnitsky/topic-5-ensembles-part-3-feature-importance)\n",
    " 3. - [Gradient boosting](https://nbviewer.jupyter.org/github/Yorko/mlcourse_open/blob/master/jupyter_english/topic10_boosting/topic10_gradient_boosting.ipynb?flush_cache=true), the same as a [Kaggle Kernel](https://www.kaggle.com/kashnitsky/topic-10-gradient-boosting) \n",
    "   - Logistic regression, Random Forest, and LightGBM in the \"Kaggle Forest Cover Type Prediction\" competition: [Kernel](https://www.kaggle.com/kashnitsky/topic-10-practice-with-logit-rf-and-lightgbm) \n",
    " 4. You can also practice with demo assignments, which are simpler and already shared with solutions:\n",
    "  - \"Decision trees with a toy task and the UCI Adult dataset\": [assignment](https://www.kaggle.com/kashnitsky/a3-demo-decision-trees) + [solution](https://www.kaggle.com/kashnitsky/a3-demo-decision-trees-solution)\n",
    "  - \"Logistic Regression and Random Forest in the credit scoring problem\": [assignment](https://www.kaggle.com/kashnitsky/assignment-5-logit-and-rf-for-credit-scoring) + [solution](https://www.kaggle.com/kashnitsky/a5-demo-logit-and-rf-for-credit-scoring-sol)\n",
    " 5. There are also 7 video lectures on trees, forests, boosting and their applications: [mlcourse.ai/video](https://mlcourse.ai/video) \n",
    " 6. mlcourse.ai tutorials on [categorical feature encoding](https://www.kaggle.com/waydeherman/tutorial-categorical-encoding) (by Wayde Herman) and [CatBoost](https://www.kaggle.com/mitribunskiy/tutorial-catboost-overview) (by Mikhail Tribunskiy)\n",
    " 7. Last but not the least: [Public Kernels](https://www.kaggle.com/c/flight-delays-fall-2018/notebooks) in this competition\n",
    "\n",
    "### Your task is to:\n",
    "  beat **\"A2 baseline (10 credits)\"** on Public LB (**0.75914** LB score)\n",
    "\n",
    " \n",
    "\n"
   ]
  },
  {
   "cell_type": "code",
   "execution_count": null,
   "metadata": {},
   "outputs": [],
   "source": [
    "import warnings\n",
    "import numpy as np\n",
    "import pandas as pd\n",
    "from pathlib import Path\n",
    "from sklearn.model_selection import train_test_split\n",
    "from sklearn.metrics import roc_auc_score\n",
    "from catboost import CatBoostClassifier\n",
    "import matplotlib.pyplot as plt\n",
    "import seaborn as sns\n",
    "%matplotlib inline"
   ]
  },
  {
   "cell_type": "markdown",
   "metadata": {},
   "source": [
    "**Read the data**"
   ]
  },
  {
   "cell_type": "code",
   "execution_count": null,
   "metadata": {},
   "outputs": [],
   "source": [
    "PATH_TO_DATA = Path('../input/flight-delays-fall-2018/')"
   ]
  },
  {
   "cell_type": "code",
   "execution_count": null,
   "metadata": {},
   "outputs": [],
   "source": [
    "train_df = pd.read_csv(PATH_TO_DATA / 'flight_delays_train.csv')"
   ]
  },
  {
   "cell_type": "code",
   "execution_count": null,
   "metadata": {},
   "outputs": [],
   "source": [
    "train_df.head()"
   ]
  },
  {
   "cell_type": "code",
   "execution_count": null,
   "metadata": {},
   "outputs": [],
   "source": [
    "test_df = pd.read_csv(PATH_TO_DATA / 'flight_delays_test.csv')"
   ]
  },
  {
   "cell_type": "code",
   "execution_count": null,
   "metadata": {},
   "outputs": [],
   "source": [
    "test_df.head()"
   ]
  },
  {
   "cell_type": "markdown",
   "metadata": {},
   "source": [
    "### Create new features"
   ]
  },
  {
   "cell_type": "code",
   "execution_count": null,
   "metadata": {},
   "outputs": [],
   "source": [
    "train_df['flight'] = train_df['Origin'] + '-->' + train_df['Dest']\n",
    "test_df['flight'] = test_df['Origin'] + '-->' + test_df['Dest']"
   ]
  },
  {
   "cell_type": "code",
   "execution_count": null,
   "metadata": {},
   "outputs": [],
   "source": [
    "# Change time to hour and minutes\n",
    "train_df['DepHour'] = train_df['DepTime'] // 100\n",
    "train_df['DepHour'].replace(to_replace=24, value=0, inplace=True)\n",
    "\n",
    "test_df['DepHour'] = test_df['DepTime'] // 100\n",
    "test_df['DepHour'].replace(to_replace=24, value=0, inplace=True)\n",
    "\n",
    "train_df['DepMinutes'] = train_df['DepTime'] % 100\n",
    "test_df['DepMinutes'] = test_df['DepTime'] % 100"
   ]
  },
  {
   "cell_type": "code",
   "execution_count": null,
   "metadata": {},
   "outputs": [],
   "source": [
    "# Change Month,DayofMonth,DayOfWeek\n",
    "train_df['Month'] = train_df['Month'].str[2:].astype('int')\n",
    "train_df['DayofMonth'] = train_df['DayofMonth'].str[2:].astype('int')\n",
    "train_df['DayOfWeek'] = train_df['DayOfWeek'].str[2:].astype('int')\n",
    "\n",
    "\n",
    "test_df['Month'] = test_df['Month'].str[2:].astype('int')\n",
    "test_df['DayofMonth'] = test_df['DayofMonth'].str[2:].astype('int')\n",
    "test_df['DayOfWeek'] =test_df['DayOfWeek'].str[2:].astype('int')\n"
   ]
  },
  {
   "cell_type": "code",
   "execution_count": null,
   "metadata": {},
   "outputs": [],
   "source": [
    "train_df"
   ]
  },
  {
   "cell_type": "code",
   "execution_count": null,
   "metadata": {},
   "outputs": [],
   "source": [
    "# Compare delay or not delay from 'DepHour'\n",
    "df_delay = train_df[train_df['dep_delayed_15min']=='Y']\n",
    "df_not_delay = train_df[train_df['dep_delayed_15min']=='N']"
   ]
  },
  {
   "cell_type": "code",
   "execution_count": null,
   "metadata": {},
   "outputs": [],
   "source": [
    "plt.figure(figsize=(18,7));\n",
    "plt.subplot(1,2,1);\n",
    "df_delay['DepHour'].value_counts().sort_index().plot(kind='bar')\n",
    "plt.subplot(1,2,2);\n",
    "df_not_delay['DepHour'].value_counts().sort_index().plot(kind='bar');"
   ]
  },
  {
   "cell_type": "code",
   "execution_count": null,
   "metadata": {},
   "outputs": [],
   "source": [
    "# new function division 1 hour into 4 parts(to 15min)\n",
    "def minute_4_part(x):\n",
    "    for i in range(4):\n",
    "        if x >= i*15 and x < (i+1)*15:\n",
    "            return i+1"
   ]
  },
  {
   "cell_type": "code",
   "execution_count": null,
   "metadata": {},
   "outputs": [],
   "source": [
    "# apply minute_4_part and create new feature\n",
    "train_df['all_part_time'] = train_df['DepHour']*4+train_df['DepMinutes'].apply(minute_4_part)\n",
    "test_df['all_part_time'] = test_df['DepHour']*4+test_df['DepMinutes'].apply(minute_4_part)"
   ]
  },
  {
   "cell_type": "code",
   "execution_count": null,
   "metadata": {},
   "outputs": [],
   "source": [
    "train_df"
   ]
  },
  {
   "cell_type": "code",
   "execution_count": null,
   "metadata": {},
   "outputs": [],
   "source": [
    "plt.figure(figsize=(18,7));\n",
    "plt.subplot(1,2,1);\n",
    "df_delay['Month'].value_counts().sort_index().plot(kind='bar')\n",
    "plt.subplot(1,2,2);\n",
    "df_not_delay['Month'].value_counts().sort_index().plot(kind='bar');"
   ]
  },
  {
   "cell_type": "code",
   "execution_count": null,
   "metadata": {},
   "outputs": [],
   "source": [
    "# Create new feature for monthly workload \n",
    "def month_peak(x):\n",
    "    if x==12 or x==6 or x==7:\n",
    "        return  0 #month_alot\n",
    "    elif x==4 or x==5 or x==9 or x==2:\n",
    "        return 1 #month_alot\n",
    "    else:\n",
    "        return 2 #norm"
   ]
  },
  {
   "cell_type": "code",
   "execution_count": null,
   "metadata": {},
   "outputs": [],
   "source": [
    "#apply function to 'month_peak'\n",
    "train_df['month_peak'] = train_df['Month'].apply(month_peak)\n",
    "\n",
    "test_df['month_peak'] = test_df['Month'].apply(month_peak)"
   ]
  },
  {
   "cell_type": "code",
   "execution_count": null,
   "metadata": {},
   "outputs": [],
   "source": [
    "# Create new feature 'season'\n",
    "def season(x):\n",
    "    if x==12 or x==1 or x==2:\n",
    "        return  0 #winter\n",
    "    elif x>=3 and x<=5:\n",
    "        return 1 #spring\n",
    "    elif x>=6 and x<=8:\n",
    "        return 2 #summer\n",
    "    elif x>=9 and x<=11:\n",
    "        return 3 #autunm"
   ]
  },
  {
   "cell_type": "code",
   "execution_count": null,
   "metadata": {},
   "outputs": [],
   "source": [
    "#apply function to 'season'\n",
    "train_df['season_time'] = train_df['Month'].apply(season)\n",
    "\n",
    "test_df['season_time'] = test_df['Month'].apply(season)"
   ]
  },
  {
   "cell_type": "code",
   "execution_count": null,
   "metadata": {},
   "outputs": [],
   "source": [
    "plt.figure(figsize=(18,7));\n",
    "plt.subplot(1,2,1);\n",
    "df_delay['DayOfWeek'].value_counts().sort_index().plot(kind='bar')\n",
    "plt.subplot(1,2,2);\n",
    "df_not_delay['DayOfWeek'].value_counts().sort_index().plot(kind='bar');"
   ]
  },
  {
   "cell_type": "code",
   "execution_count": null,
   "metadata": {},
   "outputs": [],
   "source": [
    "# Create new feature 'traffic_week'\n",
    "def traffic_week(x):\n",
    "    if x==1 or x==4 or x==5 or x==7:\n",
    "        return 1 #hight_delay\n",
    "    else:\n",
    "        return 0 #low_delay"
   ]
  },
  {
   "cell_type": "code",
   "execution_count": null,
   "metadata": {},
   "outputs": [],
   "source": [
    "#apply function to 'traffic_wee'\n",
    "train_df['traffic_week'] = train_df['DayOfWeek'].apply(traffic_week)\n",
    "\n",
    "test_df['traffic_week'] = test_df['DayOfWeek'].apply(traffic_week)"
   ]
  },
  {
   "cell_type": "code",
   "execution_count": null,
   "metadata": {},
   "outputs": [],
   "source": [
    "print(train_df.head())\n",
    "print(test_df.head())"
   ]
  },
  {
   "cell_type": "code",
   "execution_count": null,
   "metadata": {},
   "outputs": [],
   "source": [
    "# change binary feature to 1 and 0\n",
    "train_df['dep_delayed_15min'] = train_df['dep_delayed_15min'].map({'Y': 1, 'N': 0})"
   ]
  },
  {
   "cell_type": "code",
   "execution_count": null,
   "metadata": {},
   "outputs": [],
   "source": [
    "#create heatmap\n",
    "plt.figure(figsize=(12, 8))\n",
    "sns.heatmap(train_df.corr(), linewidths=1, annot=True);"
   ]
  },
  {
   "cell_type": "markdown",
   "metadata": {},
   "source": [
    "### Remember indexes of categorical features (to be passed to CatBoost)"
   ]
  },
  {
   "cell_type": "code",
   "execution_count": null,
   "metadata": {},
   "outputs": [],
   "source": [
    "#change type of feature to 'object'\n",
    "train_df['Month'] = train_df['Month'].astype('object')\n",
    "test_df['Month'] = test_df['Month'].astype('object')\n",
    "\n",
    "train_df['DepHour'] = train_df['DepHour'].astype('object')\n",
    "test_df['DepHour'] = test_df['DepHour'].astype('object')\n",
    "\n",
    "\n",
    "train_df['month_peak'] = train_df['month_peak'].astype('object')\n",
    "test_df['month_peak'] = test_df['month_peak'].astype('object')\n",
    "\n",
    "train_df['season_time'] = train_df['season_time'].astype('object')\n",
    "test_df['season_time'] = test_df['season_time'].astype('object')\n",
    "\n",
    "train_df['traffic_week']=train_df['traffic_week'].astype('object')\n",
    "test_df['traffic_week']=test_df['traffic_week'].astype('object')\n",
    "\n",
    "train_df['all_part_time']=train_df['all_part_time'].astype('object')\n",
    "test_df['all_part_time']=test_df['all_part_time'].astype('object')"
   ]
  },
  {
   "cell_type": "code",
   "execution_count": null,
   "metadata": {},
   "outputs": [],
   "source": [
    "test_df.info()"
   ]
  },
  {
   "cell_type": "code",
   "execution_count": null,
   "metadata": {},
   "outputs": [],
   "source": [
    "colstodel = ['dep_delayed_15min']"
   ]
  },
  {
   "cell_type": "code",
   "execution_count": null,
   "metadata": {},
   "outputs": [],
   "source": [
    "# saving indexes of categorical features\n",
    "categ_feat_idx = np.where(train_df.drop(columns = colstodel, axis=1).dtypes == 'object')[0]\n",
    "categ_feat_idx"
   ]
  },
  {
   "cell_type": "code",
   "execution_count": null,
   "metadata": {},
   "outputs": [],
   "source": [
    "train_df.drop(columns = colstodel, axis=1).head()"
   ]
  },
  {
   "cell_type": "markdown",
   "metadata": {},
   "source": [
    "### Separation to X_train, y_train, X_test and separation data-set to 70%:30%"
   ]
  },
  {
   "cell_type": "code",
   "execution_count": null,
   "metadata": {},
   "outputs": [],
   "source": [
    "X_train = train_df.drop(columns = colstodel, axis=1).values\n",
    "y_train = train_df['dep_delayed_15min']\n",
    "X_test = test_df.drop(columns = colstodel[1:], axis=1).values"
   ]
  },
  {
   "cell_type": "code",
   "execution_count": null,
   "metadata": {},
   "outputs": [],
   "source": [
    "X_train_part, X_valid, y_train_part, y_valid = train_test_split(X_train, y_train, \n",
    "                                                                test_size=0.3, \n",
    "                                                                random_state=17)"
   ]
  },
  {
   "cell_type": "markdown",
   "metadata": {},
   "source": [
    "### Create new classifier CAT-BOOST"
   ]
  },
  {
   "cell_type": "code",
   "execution_count": null,
   "metadata": {},
   "outputs": [],
   "source": [
    "ctb1 = CatBoostClassifier(iterations=1200,\n",
    "                          learning_rate = 0.05,\n",
    "                          eval_metric='AUC',\n",
    "                          max_depth=None,\n",
    "                          random_seed=17, \n",
    "                          silent=True)"
   ]
  },
  {
   "cell_type": "code",
   "execution_count": null,
   "metadata": {},
   "outputs": [],
   "source": [
    "%%time\n",
    "ctb1.fit(X_train_part, y_train_part, \n",
    "         eval_set=(X_valid, y_valid),\n",
    "         cat_features=categ_feat_idx,\n",
    "         plot=True);"
   ]
  },
  {
   "cell_type": "code",
   "execution_count": null,
   "metadata": {},
   "outputs": [],
   "source": [
    "ctb_valid_pred_1 = ctb1.predict_proba(X_valid)[:, 1]"
   ]
  },
  {
   "cell_type": "code",
   "execution_count": null,
   "metadata": {},
   "outputs": [],
   "source": [
    "roc_auc_score(y_valid, ctb_valid_pred_1)"
   ]
  },
  {
   "cell_type": "markdown",
   "metadata": {},
   "source": [
    "**I got some 0.802809 ROC AUC on the hold-out set.**"
   ]
  },
  {
   "cell_type": "code",
   "execution_count": null,
   "metadata": {},
   "outputs": [],
   "source": [
    "# Now we fit on data-set (100%)\n",
    "ctb1.fit(X_train, y_train,\n",
    "        cat_features=categ_feat_idx);\n",
    "ctb_test_pred_3 = ctb1.predict_proba(X_test)[:, 1]"
   ]
  },
  {
   "cell_type": "code",
   "execution_count": null,
   "metadata": {},
   "outputs": [],
   "source": [
    "ctb_test_pred_3"
   ]
  },
  {
   "cell_type": "code",
   "execution_count": null,
   "metadata": {},
   "outputs": [],
   "source": [
    "with warnings.catch_warnings():\n",
    "    warnings.simplefilter(\"ignore\")\n",
    "    \n",
    "    sample_sub = pd.read_csv(PATH_TO_DATA / 'sample_submission.csv', \n",
    "                             index_col='id')\n",
    "    sample_sub['dep_delayed_15min'] = ctb_test_pred_3\n",
    "    sample_sub.to_csv('ctb_pred_4.csv')"
   ]
  },
  {
   "cell_type": "code",
   "execution_count": null,
   "metadata": {},
   "outputs": [],
   "source": [
    "!head ctb_pred_4.csv"
   ]
  },
  {
   "cell_type": "markdown",
   "metadata": {},
   "source": [
    "### ROC AUC: 0.76364"
   ]
  },
  {
   "cell_type": "markdown",
   "metadata": {},
   "source": [
    "\n",
    "\n",
    "<img src='https://habrastorage.org/webt/fs/42/ms/fs42ms0r7qsoj-da4x7yfntwrbq.jpeg' width=50%>\n"
   ]
  }
 ],
 "metadata": {
  "kernelspec": {
   "display_name": "Python 3",
   "language": "python",
   "name": "python3"
  },
  "language_info": {
   "codemirror_mode": {
    "name": "ipython",
    "version": 3
   },
   "file_extension": ".py",
   "mimetype": "text/x-python",
   "name": "python",
   "nbconvert_exporter": "python",
   "pygments_lexer": "ipython3",
   "version": "3.6.5"
  }
 },
 "nbformat": 4,
 "nbformat_minor": 1
}
